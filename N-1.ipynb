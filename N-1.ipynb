{
 "cells": [
  {
   "cell_type": "markdown",
   "metadata": {},
   "source": [
    "# Intégrer chatGPT via une class\n",
    "\n",
    "Je montre comment créer une class d'objet me permettant d'utiliser chatgpt d'OpenAI en utiliser l'API.\n",
    "J'utilise le modèle gpt-4o-mini, faible en utilisation de token.\n",
    "Il n'est pas possible d'avoir accès aux assistants, seulement:\n",
    "- Assistant conversationnel (LLM)\n",
    "- Vision \n",
    "\n",
    "D'autres modèle sont disponible [lien vers les modèles OpenAI](https://platform.openai.com/docs/models)\n",
    "- Embeding : text-embedding-3-large\n",
    "- Moderation : omni-moderation-latest\n",
    "- TTS : tts-1 (text-to-speech)\n",
    "- DALL-E : dall-e-3"
   ]
  },
  {
   "cell_type": "code",
   "execution_count": null,
   "metadata": {},
   "outputs": [],
   "source": [
    "# Installation de la librairie OpenAI\n",
    "! pip install openai\n"
   ]
  },
  {
   "cell_type": "code",
   "execution_count": null,
   "metadata": {},
   "outputs": [],
   "source": [
    "# Permet d'utiliser des variables d'environnement\n",
    "! pip install python-dotenv"
   ]
  },
  {
   "cell_type": "code",
   "execution_count": 1,
   "metadata": {},
   "outputs": [
    {
     "name": "stdout",
     "output_type": "stream",
     "text": [
      "Fonction qui s'appelle,  \n",
      "Dans un miroir d'algorithmes,  \n",
      "L'écho d'elle-même.\n"
     ]
    }
   ],
   "source": [
    "# Exemple d'un sript simple permettant d'utiliser le modèle gpt-4o-mini\n",
    "\n",
    "import openai\n",
    "import config\n",
    "\n",
    "api_key = config.OPENAI_API_KEY\n",
    "openai.api_key = api_key\n",
    "\n",
    "# Fonction pour envoyer une requête et obtenir une réponse de GPT\n",
    "def obtenir_reponse(prompt):\n",
    "    try:\n",
    "        completion = openai.chat.completions.create(\n",
    "            model=\"gpt-4o-mini\",  # Utilise le modèle que tu veux, ici 'gpt-4'\n",
    "            messages=[\n",
    "                {\"role\": \"system\", \"content\": \"You are a helpful assistant.\"},\n",
    "                {\"role\": \"user\", \"content\": prompt}\n",
    "            ]\n",
    "        )\n",
    "        # Retourne la première réponse\n",
    "        return completion.choices[0].message.content\n",
    "    except Exception as e:\n",
    "        return f\"Erreur lors de l'envoi de la requête: {str(e)}\"\n",
    "\n",
    "# Exécuter une requête avec un exemple de prompt\n",
    "prompt = \"Écris un haïku sur la récursion en programmation.\"\n",
    "reponse = obtenir_reponse(prompt)\n",
    "\n",
    "# Afficher la réponse\n",
    "print(reponse)\n"
   ]
  },
  {
   "cell_type": "code",
   "execution_count": 2,
   "metadata": {},
   "outputs": [
    {
     "data": {
      "text/plain": [
       "'Hello! How can I assist you today with your Python coding?'"
      ]
     },
     "execution_count": 2,
     "metadata": {},
     "output_type": "execute_result"
    }
   ],
   "source": [
    "from Prompt import chatGPT\n",
    "\n",
    "# Initialisation de l'assitant\n",
    "assistant = chatGPT()\n",
    "assistant.script(\"hello\")"
   ]
  },
  {
   "cell_type": "code",
   "execution_count": null,
   "metadata": {},
   "outputs": [],
   "source": []
  }
 ],
 "metadata": {
  "kernelspec": {
   "display_name": ".venv",
   "language": "python",
   "name": "python3"
  },
  "language_info": {
   "codemirror_mode": {
    "name": "ipython",
    "version": 3
   },
   "file_extension": ".py",
   "mimetype": "text/x-python",
   "name": "python",
   "nbconvert_exporter": "python",
   "pygments_lexer": "ipython3",
   "version": "3.11.0"
  }
 },
 "nbformat": 4,
 "nbformat_minor": 2
}
